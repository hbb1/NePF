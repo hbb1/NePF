{
 "cells": [
  {
   "cell_type": "markdown",
   "metadata": {
    "colab_type": "text",
    "id": "view-in-github"
   },
   "source": [
    "<a href=\"https://colab.research.google.com/github/tancik/fourier-feature-networks/blob/master/Experiments/3d_simple_nerf.ipynb\" target=\"_parent\"><img src=\"https://colab.research.google.com/assets/colab-badge.svg\" alt=\"Open In Colab\"/></a>"
   ]
  },
  {
   "cell_type": "markdown",
   "metadata": {
    "colab_type": "text",
    "id": "NeCLL6bKJtiP"
   },
   "source": [
    "# Simplified 3D NeRF"
   ]
  },
  {
   "cell_type": "code",
   "execution_count": 1,
   "metadata": {
    "colab": {},
    "colab_type": "code",
    "id": "pCzjLe6ueo0D"
   },
   "outputs": [
    {
     "name": "stdout",
     "output_type": "stream",
     "text": [
      "\u001b[33mWARNING: Running pip as the 'root' user can result in broken permissions and conflicting behaviour with the system package manager. It is recommended to use a virtual environment instead: https://pip.pypa.io/warnings/venv\u001b[0m\r\n"
     ]
    }
   ],
   "source": [
    "!pip install -q livelossplot"
   ]
  },
  {
   "cell_type": "code",
   "execution_count": 2,
   "metadata": {
    "colab": {
     "base_uri": "https://localhost:8080/",
     "height": 34
    },
    "colab_type": "code",
    "id": "K02MvVcvOgzy",
    "outputId": "1830c55f-7598-42fc-df76-c90c893078b4"
   },
   "outputs": [
    {
     "name": "stdout",
     "output_type": "stream",
     "text": [
      "Using gpu\n"
     ]
    }
   ],
   "source": [
    "import jax\n",
    "from jax import random, grad, jit, vmap\n",
    "from jax.config import config\n",
    "from jax.lib import xla_bridge\n",
    "import jax.numpy as np\n",
    "from jax.experimental import stax\n",
    "from jax.experimental import optimizers\n",
    "\n",
    "from livelossplot import PlotLosses\n",
    "import matplotlib.pyplot as plt\n",
    "from tqdm.notebook import tqdm as tqdm\n",
    "\n",
    "import os\n",
    "\n",
    "import numpy as onp\n",
    "\n",
    "from jax.lib import xla_bridge\n",
    "print(f'Using {xla_bridge.get_backend().platform}')\n",
    "\n",
    "rng = random.PRNGKey(0)"
   ]
  },
  {
   "cell_type": "markdown",
   "metadata": {
    "colab_type": "text",
    "id": "q6BuI2ivNTQJ"
   },
   "source": [
    "# Load Data"
   ]
  },
  {
   "cell_type": "code",
   "execution_count": 17,
   "metadata": {
    "colab": {
     "base_uri": "https://localhost:8080/",
     "height": 286
    },
    "colab_type": "code",
    "id": "ShNKZO9TOySJ",
    "outputId": "4ace9dcd-22fb-4884-f7bd-91debff4dc99"
   },
   "outputs": [
    {
     "data": {
      "text/plain": [
       "(120, 400, 400, 4)"
      ]
     },
     "execution_count": 17,
     "metadata": {},
     "output_type": "execute_result"
    }
   ],
   "source": [
    "filename = 'lego_400.npz'\n",
    "if not os.path.exists(filename):\n",
    "    !gdown --id 108jNfjPITTsTA0lE6Kpg7Ei53BUVL-4n # Lego\n",
    "\n",
    "data = np.load(filename)\n",
    "images = data['images']\n",
    "data.files\n",
    "data['intrinsics'].shape\n",
    "images.shape\n",
    "# data['intrinsics'], data['']\n",
    "# poses = data['poses']\n",
    "# focal = data['focal']\n",
    "# H, W = images.shape[1:3]\n",
    "\n",
    "# images, val_images, test_images = np.split(images[...,:3], [100,107], axis=0)\n",
    "# poses, val_poses, test_poses = np.split(poses, [100,107], axis=0)\n",
    "\n",
    "# print(val_images.shape, test_images.shape, focal)\n",
    "# plt.imshow(test_images[0,...])\n",
    "# plt.show()"
   ]
  },
  {
   "cell_type": "markdown",
   "metadata": {
    "colab_type": "text",
    "id": "aQ6e2eZUNdB7"
   },
   "source": [
    "# Rendering Functions"
   ]
  },
  {
   "cell_type": "code",
   "execution_count": null,
   "metadata": {
    "colab": {},
    "colab_type": "code",
    "id": "5A_n_T6fMeg0"
   },
   "outputs": [],
   "source": [
    "def get_rays(H, W, focal, c2w):\n",
    "    i, j = np.meshgrid(np.arange(W), np.arange(H), indexing='xy')\n",
    "    dirs = np.stack([(i-W*.5)/focal, -(j-H*.5)/focal, -np.ones_like(i)], -1)\n",
    "    rays_d = np.sum(dirs[..., np.newaxis, :] * c2w[:3,:3], -1)\n",
    "    rays_o = np.broadcast_to(c2w[:3,-1], rays_d.shape)\n",
    "    return np.stack([rays_o, rays_d], 0)\n",
    "\n",
    "get_rays = jit(get_rays, static_argnums=(0, 1, 2,))\n",
    "\n",
    "training_rays = np.stack([get_rays(H,W,focal,pose) for pose in poses], 1)\n",
    "training_data = np.concatenate([training_rays, images[None]])\n",
    "training_data = np.moveaxis(training_data, 0, -2)\n",
    "training_data = onp.array(np.reshape(training_data, [-1, 3, 3]))\n",
    "onp.random.shuffle(training_data)\n",
    "training_data = np.array(training_data)"
   ]
  },
  {
   "cell_type": "code",
   "execution_count": null,
   "metadata": {
    "colab": {},
    "colab_type": "code",
    "id": "AZ-REysGO8yP"
   },
   "outputs": [],
   "source": [
    "def render_rays(apply_fn, params, avals, bvals, key, rays, near, far, N_samples, rand=False, allret=False):\n",
    "    rays_o, rays_d = rays\n",
    "    \n",
    "    # Compute 3D query points\n",
    "    z_vals = np.linspace(near, far, N_samples) \n",
    "    if rand:\n",
    "        z_vals += random.uniform(key, shape=list(rays_o.shape[:-1]) + [N_samples]) * (far-near)/N_samples\n",
    "    pts = rays_o[...,None,:] + rays_d[...,None,:] * z_vals[...,:,None]\n",
    "    \n",
    "    # Run network\n",
    "    pts_flat = np.reshape(pts, [-1,3])\n",
    "    if avals is not None:\n",
    "        pts_flat = np.concatenate([avals * np.sin(pts_flat @ bvals.T), \n",
    "                                   avals * np.cos(pts_flat @ bvals.T)], axis=-1)\n",
    "    raw = apply_fn(params, pts_flat)\n",
    "    raw = np.reshape(raw, list(pts.shape[:-1]) + [4])\n",
    "    \n",
    "    # Compute opacities and colors\n",
    "    rgb, sigma_a = raw[...,:3], raw[...,3]\n",
    "    sigma_a = jax.nn.relu(sigma_a)\n",
    "    rgb = jax.nn.sigmoid(rgb) \n",
    "    \n",
    "    # Do volume rendering\n",
    "    dists = np.concatenate([z_vals[..., 1:] - z_vals[..., :-1], np.broadcast_to([1e10], z_vals[...,:1].shape)], -1) \n",
    "    alpha = 1.-np.exp(-sigma_a * dists)\n",
    "    trans = np.minimum(1., 1.-alpha + 1e-10)\n",
    "    trans = np.concatenate([np.ones_like(trans[...,:1]), trans[...,:-1]], -1)  \n",
    "    weights = alpha * np.cumprod(trans, -1)\n",
    "    \n",
    "    rgb_map = np.sum(weights[...,None] * rgb, -2) \n",
    "    acc_map = np.sum(weights, -1)\n",
    "    \n",
    "    if False:\n",
    "        rgb_map = rgb_map + (1.-acc_map[..., None])\n",
    "    \n",
    "    if not allret:\n",
    "        return rgb_map\n",
    "    \n",
    "    depth_map = np.sum(weights * z_vals, -1) \n",
    "\n",
    "    return rgb_map, depth_map, acc_map\n",
    "\n",
    "def render_fn_inner(params, avals, bvals, key, rays, rand, allret):\n",
    "    return render_rays(apply_fn, params, avals, bvals, key, rays, near=2., far=6., N_samples=N_samples, rand=rand, allret=allret)\n",
    "render_fn_inner = jit(render_fn_inner, static_argnums=(5, 6,))\n",
    "\n",
    "def render_fn(params, avals, bvals, key, rays, rand):\n",
    "    chunk = 5\n",
    "    for i in range(0, rays.shape[1], chunk):\n",
    "        out = render_fn_inner(params, avals, bvals, key, rays[:,i:i+chunk], rand, True)\n",
    "        if i==0:\n",
    "            rets = out\n",
    "        else:\n",
    "            rets = [np.concatenate([a, b], 0) for a, b in zip(rets, out)]\n",
    "    return rets\n",
    "\n"
   ]
  },
  {
   "cell_type": "markdown",
   "metadata": {
    "colab_type": "text",
    "id": "l62oCSscPY7W"
   },
   "source": [
    "#Network Definition"
   ]
  },
  {
   "cell_type": "code",
   "execution_count": null,
   "metadata": {
    "colab": {},
    "colab_type": "code",
    "id": "TOl__n7cBVm5"
   },
   "outputs": [],
   "source": [
    "def make_network(num_layers, num_channels):\n",
    "    layers = []\n",
    "    for i in range(num_layers-1):\n",
    "        layers.append(stax.Dense(num_channels))\n",
    "        layers.append(stax.Relu)\n",
    "    layers.append(stax.Dense(4))\n",
    "    return stax.serial(*layers)"
   ]
  },
  {
   "cell_type": "code",
   "execution_count": null,
   "metadata": {
    "colab": {},
    "colab_type": "code",
    "id": "jwAzHv2_STDh"
   },
   "outputs": [],
   "source": [
    "def loss_fn(params, avals, bvals, key, rays, target, stratified):\n",
    "    rgb = render_fn_inner(params, avals, bvals, key, rays, stratified, False)\n",
    "    l = np.mean(np.square(rgb - target))\n",
    "    return l\n",
    "\n",
    "def train_model(lr, iters, avals, bvals, stratified, name='', plot_groups=None):\n",
    "    rng = random.PRNGKey(0)\n",
    "    if bvals is not None:\n",
    "        init_shape = (-1, bvals.shape[0]*2)\n",
    "    else:\n",
    "        init_shape = (-1, 3)\n",
    "    _, net_params = init_fn(rng, init_shape)\n",
    "\n",
    "    opt_init, opt_update, get_params = optimizers.adam(lr)\n",
    "    opt_state = opt_init(net_params)\n",
    "\n",
    "    @jit\n",
    "    def step_fn(i, opt_state, avals, bvals, key, rays, target):\n",
    "        params = get_params(opt_state)\n",
    "        g = grad(loss_fn)(params, avals, bvals, key, rays, target, stratified)\n",
    "        return opt_update(i, g, opt_state)\n",
    "\n",
    "    if plot_groups is not None:\n",
    "        plot_groups['PSNR'].append(f'{name}')\n",
    "    b_i = 0\n",
    "    xs = []\n",
    "    psnrs = []\n",
    "    import time\n",
    "    t = time.time()\n",
    "    t0 = t\n",
    "    for i in range(iters+1):\n",
    "        batch = training_data[b_i:b_i+batch_size]\n",
    "        b_i += batch_size\n",
    "        rays = np.moveaxis(batch[:,:2], 1, 0)\n",
    "        target = batch[:,2]\n",
    "        if b_i >= training_data.shape[0]:\n",
    "            b_i = 0\n",
    "\n",
    "        rng, key = random.split(rng)\n",
    "        opt_state = step_fn(i, opt_state, avals, bvals, key, rays, target)  \n",
    "        \n",
    "        if i%1000==0 or i==iters:\n",
    "            psnr = []\n",
    "            print(i, (time.time() - t) / 200, 'secs per iter', (time.time()-t0)/60., 'total mins')\n",
    "            num_vals = val_poses.shape[0] if i==iters else 1\n",
    "            for v in range(num_vals):\n",
    "                # Render the holdout view for logging\n",
    "                rays = get_rays(H, W, focal, val_poses[v,...])\n",
    "                rng, key = random.split(rng)\n",
    "                rgb, depth, acc = render_fn(get_params(opt_state), avals, bvals, key, rays, False)\n",
    "                \n",
    "                loss = np.mean(np.square(rgb - val_images[v,...]))\n",
    "                psnr.append(-10. * np.log10(loss))\n",
    "            psnr = np.mean(np.array(psnr))\n",
    "            psnrs.append(psnr)\n",
    "            xs.append(i)\n",
    "            if plot_groups is not None:\n",
    "                plotlosses_model.update({f'{name}':psnr}, current_step=i)\n",
    "                plotlosses_model.send()\n",
    "            t = time.time()\n",
    "    results = {\n",
    "        'state': get_params(opt_state),\n",
    "        'psnrs': psnrs,\n",
    "        'avals': avals,\n",
    "        'bvals': bvals,\n",
    "        'val_image': rgb,\n",
    "        'xs': xs\n",
    "    }\n",
    "    return results"
   ]
  },
  {
   "cell_type": "markdown",
   "metadata": {
    "colab_type": "text",
    "id": "0HDAo6E1R4LT"
   },
   "source": [
    "## Train network with different embeddings\n",
    "\n",
    "Our 3D input embedding is of the form: \\\n",
    "> $\\gamma(\\mathbf v) = (a_0 \\sin(\\pi b_0^\\top \\mathbf v), a_0 \\cos(\\pi b_0^\\top \\mathbf v),a_1 \\sin(\\pi b_1^\\top \\mathbf v), a_1 \\cos(\\pi b_1^\\top \\mathbf v),...)$\n",
    "\n",
    "This creates a kernel of the form: \\\n",
    "> $k_\\gamma(\\mathbf v_1, \\mathbf v_2) = \\sum_{i=1}^m a_i^2 \\cos(\\pi b_i^\\top (\\mathbf v_1 - \\mathbf v_2))$"
   ]
  },
  {
   "cell_type": "code",
   "execution_count": null,
   "metadata": {
    "cellView": "both",
    "colab": {},
    "colab_type": "code",
    "id": "VyJzYz4paWIE"
   },
   "outputs": [],
   "source": [
    "#@title Train Models\n",
    "disable_jit = False #@param {type:\"boolean\"}\n",
    "\n",
    "live_plot = True #@param {type:\"boolean\"}\n",
    "reset_plots = True #@param {type:\"boolean\"}\n",
    "\n",
    "#@markdown ##Network Params\n",
    "lr =  5e-4#@param\n",
    "batch_size = 1024 #@param\n",
    "N_samples = 128 #@param\n",
    "training_steps =  50000#@param\n",
    "num_layers =  4#@param\n",
    "layer_width = 256 #@param\n",
    "stratified_sampling = True #@param {type:\"boolean\"}\n",
    "rotate = True #@param {type:\"boolean\"}\n",
    "\n",
    "#@markdown ##Encoder Params\n",
    "embedding_size = 256 #@param\n",
    "max_posenc_log_scale =  8#@param\n",
    "#@markdown gaussian_scales should be a list of scales (things like np.arange(...) allowed)\n",
    "gaussian_scales = [38] #@param\n",
    "#@markdown\n",
    "include_no_encoding = True #@param {type:\"boolean\"}\n",
    "include_basic = True #@param {type:\"boolean\"}\n",
    "include_posenc = False #@param {type:\"boolean\"}\n",
    "include_new_posenc = True #@param {type:\"boolean\"}\n",
    "include_gaussian = True #@param {type:\"boolean\"}\n",
    "\n",
    "config.update('jax_disable_jit', disable_jit)\n",
    "\n",
    "init_fn, apply_fn = make_network(num_layers, layer_width)\n",
    "\n",
    "enc_dict = {}\n",
    "\n",
    "if include_basic:\n",
    "    bvals = np.eye(3)\n",
    "    avals = np.ones((bvals.shape[0])) \n",
    "    enc_dict['basic'] = (avals, bvals)\n",
    "\n",
    "if include_posenc:\n",
    "    bvals = 2.**np.arange(max_posenc_log_scale)\n",
    "    bvals = np.reshape(np.eye(3)*bvals[:,None,None], [len(bvals)*3, 3])\n",
    "    avals = np.ones((bvals.shape[0])) \n",
    "    enc_dict['posenc'] = (avals, bvals)\n",
    "\n",
    "if include_new_posenc:\n",
    "    bvals = 2.**np.linspace(0,max_posenc_log_scale,embedding_size//3) - 1\n",
    "    bvals = np.reshape(np.eye(3)*bvals[:,None,None], [len(bvals)*3, 3])\n",
    "    avals = np.ones((bvals.shape[0]))\n",
    "    if rotate:\n",
    "        rot = np.array([[(2**.5)/2,-(2**.5)/2,0],[(2**.5)/2,(2**.5)/2,0],[0,0,1]])\n",
    "        bvals = bvals @ rot.T\n",
    "        rot = np.array([[1,0,0],[0,(2**.5)/2,-(2**.5)/2],[0,(2**.5)/2,(2**.5)/2]])\n",
    "        bvals = bvals @ rot.T\n",
    "    enc_dict['posenc_new'] = (avals, bvals)\n",
    "\n",
    "if include_gaussian:\n",
    "    bvals = random.normal(rng, (embedding_size, 3))\n",
    "    avals = np.ones((bvals.shape[0]))\n",
    "    for scale in gaussian_scales:\n",
    "        enc_dict['gaussian_%.2f' % scale] = (avals, bvals * scale)\n",
    "\n",
    "if live_plot:\n",
    "    if reset_plots:\n",
    "        plt_groups = {'PSNR':[]}\n",
    "        # plotlosses_model = PlotLosses()\n",
    "        plotlosses_model = PlotLosses(groups=plt_groups)\n",
    "else:\n",
    "    plt_groups = None\n",
    "\n",
    "if reset_plots:\n",
    "    outputs = {}\n",
    "if include_no_encoding:\n",
    "    outputs['no_encoding'] = train_model(lr, training_steps, None, None, stratified_sampling, name='no encodings', plot_groups=plt_groups)\n",
    "\n",
    "for k in tqdm(enc_dict, leave=False):\n",
    "    outputs[k] = train_model(lr, training_steps, *enc_dict[k], stratified_sampling, name=k, plot_groups=plt_groups)"
   ]
  },
  {
   "cell_type": "code",
   "execution_count": null,
   "metadata": {
    "colab": {
     "base_uri": "https://localhost:8080/",
     "height": 797
    },
    "colab_type": "code",
    "id": "W-j7TXjVbRTD",
    "outputId": "2aa96e7f-490d-4db2-f78e-9ca0ac1836aa"
   },
   "outputs": [],
   "source": [
    "#@title Plot Results\n",
    "\n",
    "bar_graph = True #@param {type:\"boolean\"}\n",
    "renders_viz = True #@param {type:\"boolean\"}\n",
    "\n",
    "names = list(outputs.keys())\n",
    "xvals = np.arange(len(names))\n",
    "test_value = np.array([outputs[n]['psnrs'][-1] for n in names])\n",
    "inds = np.argsort(test_value)\n",
    "names_sort = [names[i] for i in inds]\n",
    "\n",
    "if bar_graph:\n",
    "    plt.figure(figsize=(15,5))\n",
    "    plt.bar(xvals, test_value[inds], alpha=.5)\n",
    "    # plt.xticks(xvals, names_sort, rotation=60)\n",
    "    plt.xticks([])\n",
    "    plt.ylim(test_value.min()-1, test_value.max()+1)\n",
    "    plt.title(f'PSNR of rendered view')\n",
    "    plt.table(cellText=[['%.2f' % x for x in test_value[inds].tolist()]],\n",
    "        rowLabels=['PSNR'],\n",
    "        colLabels=names_sort,\n",
    "        loc='bottom',\n",
    "        bbox=[0, -.2, 1, 0.2])\n",
    "    plt.show()\n",
    "\n",
    "if renders_viz:\n",
    "    print('----------------------------------------')\n",
    "    print('                  Test')\n",
    "    print('----------------------------------------')\n",
    "    plt.figure(figsize=(28,6))\n",
    "    for i, p in enumerate(names_sort):\n",
    "        plt.subplot(1,len(names)+1,i+1)\n",
    "        plt.imshow(outputs[p]['val_image'])\n",
    "        plt.title(p)\n",
    "\n",
    "    plt.subplot(1,len(names)+1,len(names)+1)\n",
    "    plt.imshow(testimg)\n",
    "    plt.title('ground truth')\n",
    "    plt.show()"
   ]
  },
  {
   "cell_type": "markdown",
   "metadata": {
    "colab_type": "text",
    "id": "VPjqWAvbGQks"
   },
   "source": [
    "# Grid Search"
   ]
  },
  {
   "cell_type": "code",
   "execution_count": null,
   "metadata": {
    "colab": {},
    "colab_type": "code",
    "id": "6gPSdBOzrkmB"
   },
   "outputs": [],
   "source": [
    "#@title Train Models\n",
    "disable_jit = False #@param {type:\"boolean\"}\n",
    "\n",
    "live_plot = True #@param {type:\"boolean\"}\n",
    "reset_plots = True #@param {type:\"boolean\"}\n",
    "\n",
    "#@markdown ##Network Params\n",
    "lr =  5e-4#@param\n",
    "batch_size = 1024 #@param\n",
    "N_samples = 128 #@param\n",
    "training_steps =  50000#@param\n",
    "num_layers =  4#@param\n",
    "layer_width = 256 #@param\n",
    "stratified_sampling = True #@param {type:\"boolean\"}\n",
    "\n",
    "#@markdown ##Encoder Params\n",
    "embedding_size = 256 #@param\n",
    "#@markdown gaussian_scales should be a list of scales (things like np.arange(...) allowed)\n",
    "gaussian_scales = [8,12,14,15,16,17,18,19,20,21,22,23,24,26,28,32] #@param\n",
    "\n",
    "config.update('jax_disable_jit', disable_jit)\n",
    "\n",
    "init_fn, apply_fn = make_network(num_layers, layer_width)\n",
    "\n",
    "enc_dict = {}\n",
    "\n",
    "bvals = random.normal(rng, (embedding_size, 3))\n",
    "avals = np.ones((bvals.shape[0]))\n",
    "for scale in gaussian_scales:\n",
    "    enc_dict['gaussian_%.2f' % scale] = (avals, bvals * scale)\n",
    "\n",
    "if live_plot:\n",
    "    if reset_plots:\n",
    "        plt_groups = {'PSNR':[]}\n",
    "        # plotlosses_model = PlotLosses()\n",
    "        plotlosses_model = PlotLosses(groups=plt_groups)\n",
    "else:\n",
    "    plt_groups = None\n",
    "\n",
    "if reset_plots:\n",
    "    outputs = {}\n",
    "if include_no_encoding:\n",
    "    outputs['no_encoding'] = train_model(lr, training_steps, None, None, stratified_sampling, name='no encoding', plot_groups=plt_groups)\n",
    "\n",
    "grid_psnrs = []\n",
    "for k in tqdm(enc_dict, leave=False):\n",
    "    out = train_model(lr, training_steps, *enc_dict[k], stratified_sampling, name=k, plot_groups=plt_groups)\n",
    "    grid_psnrs.append(out['psnrs'][-1])\n",
    "\n",
    "plt.plot(gaussian_scales, grid_psnrs)\n",
    "print('best scale', gaussian_scales[np.argmax(np.array(grid_psnrs))])\n"
   ]
  },
  {
   "cell_type": "markdown",
   "metadata": {
    "colab_type": "text",
    "id": "Y_oQqrCp3sGe"
   },
   "source": [
    "# Paper Experiments"
   ]
  },
  {
   "cell_type": "code",
   "execution_count": null,
   "metadata": {
    "colab": {
     "base_uri": "https://localhost:8080/",
     "height": 462,
     "referenced_widgets": [
      "4f3ed598af02489b8bb83eb0d14af6e2",
      "898d490643e24e77946baaf7a1cb1feb",
      "f87f4de4aa0c49099c937402c101b4c9",
      "d0d20d2ec1614001a454d737b0bb1e9f",
      "0c5b4cc64796439a817beefcdb3a66ca",
      "ce85b9b36c9848168efcefa05cabea95",
      "ffb26aeb3b7241db9d89b071851ffb40",
      "f4d73aae47fc4d77b98f137771bcfdc4"
     ]
    },
    "colab_type": "code",
    "id": "vjp2aLOw2iVO",
    "outputId": "a2455213-f1b7-4058-df11-9c60cca79067"
   },
   "outputs": [],
   "source": [
    "live_plot = True\n",
    "reset_plots = True\n",
    "\n",
    "training_steps = 50000\n",
    "\n",
    "lr =  5e-4\n",
    "lr_no_encoding = 1e-2\n",
    "lr_basic = 5e-3\n",
    "\n",
    "batch_size = 1024\n",
    "N_samples = 128\n",
    "num_layers =  4\n",
    "layer_width = 256\n",
    "stratified_sampling = True\n",
    "\n",
    "embedding_size = 256\n",
    "max_posenc_log_scale = 8\n",
    "gaussian_scale = 26\n",
    "\n",
    "init_fn, apply_fn = make_network(num_layers, layer_width)\n",
    "\n",
    "enc_dict = {}\n",
    "\n",
    "bvals = np.eye(3)\n",
    "avals = np.ones((bvals.shape[0])) \n",
    "enc_dict['basic'] = (avals, bvals)\n",
    "\n",
    "bvals = 2.**np.arange(max_posenc_log_scale+1)\n",
    "bvals = np.reshape(np.eye(3)*bvals[:,None,None], [len(bvals)*3, 3])\n",
    "avals = np.ones((bvals.shape[0])) \n",
    "enc_dict['posenc'] = (avals, bvals)\n",
    "\n",
    "bvals = 2.**np.arange(max_posenc_log_scale+1)\n",
    "bvals = np.reshape(np.eye(3)*bvals[:,None,None], [len(bvals)*3, 3])\n",
    "avals = np.ones((bvals.shape[0])) \n",
    "rot = np.array([[(2**.5)/2,-(2**.5)/2,0],[(2**.5)/2,(2**.5)/2,0],[0,0,1]])\n",
    "bvals = bvals @ rot.T\n",
    "rot = np.array([[1,0,0],[0,(2**.5)/2,-(2**.5)/2],[0,(2**.5)/2,(2**.5)/2]])\n",
    "bvals = bvals @ rot.T\n",
    "enc_dict['posenc_rotated'] = (avals, bvals)\n",
    "\n",
    "bvals = 2.**np.linspace(0,max_posenc_log_scale,embedding_size//3) - 1\n",
    "bvals = np.reshape(np.eye(3)*bvals[:,None,None], [len(bvals)*3, 3])\n",
    "avals = np.ones((bvals.shape[0]))\n",
    "enc_dict['posenc_new'] = (avals, bvals)\n",
    "\n",
    "bvals = 2.**np.linspace(0,max_posenc_log_scale,embedding_size//3) - 1\n",
    "bvals = np.reshape(np.eye(3)*bvals[:,None,None], [len(bvals)*3, 3])\n",
    "rot = np.array([[(2**.5)/2,-(2**.5)/2,0],[(2**.5)/2,(2**.5)/2,0],[0,0,1]])\n",
    "bvals = bvals @ rot.T\n",
    "rot = np.array([[1,0,0],[0,(2**.5)/2,-(2**.5)/2],[0,(2**.5)/2,(2**.5)/2]])\n",
    "bvals = bvals @ rot.T\n",
    "enc_dict['posenc_new_rotated'] = (avals, bvals)\n",
    "\n",
    "bvals = random.normal(rng, (embedding_size, 3))\n",
    "avals = np.ones((bvals.shape[0]))\n",
    "enc_dict[f'gaussian_{gaussian_scale}'] = (avals, bvals * gaussian_scale)\n",
    "\n",
    "if live_plot:\n",
    "    if reset_plots:\n",
    "        plt_groups = {'PSNR':[]}\n",
    "        plotlosses_model = PlotLosses(groups=plt_groups)\n",
    "else:\n",
    "    plt_groups = None\n",
    "\n",
    "if reset_plots:\n",
    "    outputs_paper = {}\n",
    "\n",
    "outputs_paper['no_encoding'] = train_model(lr_no_encoding, training_steps, None, None, stratified_sampling, name='no encodings', plot_groups=plt_groups)\n",
    "\n",
    "for k in tqdm(enc_dict, leave=False):\n",
    "    if 'basic' in k:\n",
    "        exp_lr = lr_basic\n",
    "    else:\n",
    "        exp_lr = lr\n",
    "    outputs_paper[k] = train_model(exp_lr, training_steps, *enc_dict[k], stratified_sampling, name=k, plot_groups=plt_groups)"
   ]
  },
  {
   "cell_type": "code",
   "execution_count": null,
   "metadata": {
    "colab": {
     "base_uri": "https://localhost:8080/",
     "height": 493
    },
    "colab_type": "code",
    "id": "PRyxgtqgIgg9",
    "outputId": "18159295-b56f-40c4-bc5d-8af64e0ac9c0"
   },
   "outputs": [],
   "source": [
    "import imageio\n",
    "for k in outputs_paper:\n",
    "    psnr = []\n",
    "    num_test = test_poses.shape[0]\n",
    "    state = outputs_paper[k]['state']\n",
    "    avals = outputs_paper[k]['avals']\n",
    "    bvals = outputs_paper[k]['bvals']\n",
    "    for v in range(num_test):\n",
    "        rays = get_rays(H, W, focal, test_poses[v,...])\n",
    "        rng, key = random.split(rng)\n",
    "        rgb, depth, acc = render_fn(state, avals, bvals, key, rays, False)\n",
    "        \n",
    "        loss = np.mean(np.square(rgb - test_images[v,...]))\n",
    "        psnr.append(-10. * np.log10(loss))\n",
    "        if v in [1,4,6]:\n",
    "            imageio.imwrite(f'nerf_{k}_{v}.png', rgb)\n",
    "    psnr_mean = np.mean(np.array(psnr))\n",
    "    psnr_std = np.std(np.array(psnr))\n",
    "    print(f'    {k}:             %.3f,    std: %.3f' % (psnr_mean, psnr_std))"
   ]
  }
 ],
 "metadata": {
  "accelerator": "GPU",
  "colab": {
   "collapsed_sections": [],
   "include_colab_link": true,
   "name": "3d_simple_nerf.ipynb",
   "provenance": []
  },
  "kernelspec": {
   "display_name": "Python 3",
   "language": "python",
   "name": "python3"
  },
  "language_info": {
   "codemirror_mode": {
    "name": "ipython",
    "version": 3
   },
   "file_extension": ".py",
   "mimetype": "text/x-python",
   "name": "python",
   "nbconvert_exporter": "python",
   "pygments_lexer": "ipython3",
   "version": "3.6.8"
  },
  "widgets": {
   "application/vnd.jupyter.widget-state+json": {
    "0c5b4cc64796439a817beefcdb3a66ca": {
     "model_module": "@jupyter-widgets/base",
     "model_name": "LayoutModel",
     "state": {
      "_model_module": "@jupyter-widgets/base",
      "_model_module_version": "1.2.0",
      "_model_name": "LayoutModel",
      "_view_count": null,
      "_view_module": "@jupyter-widgets/base",
      "_view_module_version": "1.2.0",
      "_view_name": "LayoutView",
      "align_content": null,
      "align_items": null,
      "align_self": null,
      "border": null,
      "bottom": null,
      "display": null,
      "flex": null,
      "flex_flow": null,
      "grid_area": null,
      "grid_auto_columns": null,
      "grid_auto_flow": null,
      "grid_auto_rows": null,
      "grid_column": null,
      "grid_gap": null,
      "grid_row": null,
      "grid_template_areas": null,
      "grid_template_columns": null,
      "grid_template_rows": null,
      "height": null,
      "justify_content": null,
      "justify_items": null,
      "left": null,
      "margin": null,
      "max_height": null,
      "max_width": null,
      "min_height": null,
      "min_width": null,
      "object_fit": null,
      "object_position": null,
      "order": null,
      "overflow": null,
      "overflow_x": null,
      "overflow_y": null,
      "padding": null,
      "right": null,
      "top": null,
      "visibility": null,
      "width": null
     }
    },
    "4f3ed598af02489b8bb83eb0d14af6e2": {
     "model_module": "@jupyter-widgets/controls",
     "model_name": "HBoxModel",
     "state": {
      "_dom_classes": [],
      "_model_module": "@jupyter-widgets/controls",
      "_model_module_version": "1.5.0",
      "_model_name": "HBoxModel",
      "_view_count": null,
      "_view_module": "@jupyter-widgets/controls",
      "_view_module_version": "1.5.0",
      "_view_name": "HBoxView",
      "box_style": "",
      "children": [
       "IPY_MODEL_898d490643e24e77946baaf7a1cb1feb",
       "IPY_MODEL_f87f4de4aa0c49099c937402c101b4c9"
      ],
      "layout": "IPY_MODEL_d0d20d2ec1614001a454d737b0bb1e9f"
     }
    },
    "898d490643e24e77946baaf7a1cb1feb": {
     "model_module": "@jupyter-widgets/controls",
     "model_name": "FloatProgressModel",
     "state": {
      "_dom_classes": [],
      "_model_module": "@jupyter-widgets/controls",
      "_model_module_version": "1.5.0",
      "_model_name": "FloatProgressModel",
      "_view_count": null,
      "_view_module": "@jupyter-widgets/controls",
      "_view_module_version": "1.5.0",
      "_view_name": "ProgressView",
      "bar_style": "",
      "description": "100%",
      "description_tooltip": null,
      "layout": "IPY_MODEL_0c5b4cc64796439a817beefcdb3a66ca",
      "max": 6,
      "min": 0,
      "orientation": "horizontal",
      "style": "IPY_MODEL_ce85b9b36c9848168efcefa05cabea95",
      "value": 6
     }
    },
    "ce85b9b36c9848168efcefa05cabea95": {
     "model_module": "@jupyter-widgets/controls",
     "model_name": "ProgressStyleModel",
     "state": {
      "_model_module": "@jupyter-widgets/controls",
      "_model_module_version": "1.5.0",
      "_model_name": "ProgressStyleModel",
      "_view_count": null,
      "_view_module": "@jupyter-widgets/base",
      "_view_module_version": "1.2.0",
      "_view_name": "StyleView",
      "bar_color": null,
      "description_width": "initial"
     }
    },
    "d0d20d2ec1614001a454d737b0bb1e9f": {
     "model_module": "@jupyter-widgets/base",
     "model_name": "LayoutModel",
     "state": {
      "_model_module": "@jupyter-widgets/base",
      "_model_module_version": "1.2.0",
      "_model_name": "LayoutModel",
      "_view_count": null,
      "_view_module": "@jupyter-widgets/base",
      "_view_module_version": "1.2.0",
      "_view_name": "LayoutView",
      "align_content": null,
      "align_items": null,
      "align_self": null,
      "border": null,
      "bottom": null,
      "display": null,
      "flex": null,
      "flex_flow": null,
      "grid_area": null,
      "grid_auto_columns": null,
      "grid_auto_flow": null,
      "grid_auto_rows": null,
      "grid_column": null,
      "grid_gap": null,
      "grid_row": null,
      "grid_template_areas": null,
      "grid_template_columns": null,
      "grid_template_rows": null,
      "height": null,
      "justify_content": null,
      "justify_items": null,
      "left": null,
      "margin": null,
      "max_height": null,
      "max_width": null,
      "min_height": null,
      "min_width": null,
      "object_fit": null,
      "object_position": null,
      "order": null,
      "overflow": null,
      "overflow_x": null,
      "overflow_y": null,
      "padding": null,
      "right": null,
      "top": null,
      "visibility": null,
      "width": null
     }
    },
    "f4d73aae47fc4d77b98f137771bcfdc4": {
     "model_module": "@jupyter-widgets/controls",
     "model_name": "DescriptionStyleModel",
     "state": {
      "_model_module": "@jupyter-widgets/controls",
      "_model_module_version": "1.5.0",
      "_model_name": "DescriptionStyleModel",
      "_view_count": null,
      "_view_module": "@jupyter-widgets/base",
      "_view_module_version": "1.2.0",
      "_view_name": "StyleView",
      "description_width": ""
     }
    },
    "f87f4de4aa0c49099c937402c101b4c9": {
     "model_module": "@jupyter-widgets/controls",
     "model_name": "HTMLModel",
     "state": {
      "_dom_classes": [],
      "_model_module": "@jupyter-widgets/controls",
      "_model_module_version": "1.5.0",
      "_model_name": "HTMLModel",
      "_view_count": null,
      "_view_module": "@jupyter-widgets/controls",
      "_view_module_version": "1.5.0",
      "_view_name": "HTMLView",
      "description": "",
      "description_tooltip": null,
      "layout": "IPY_MODEL_ffb26aeb3b7241db9d89b071851ffb40",
      "placeholder": "​",
      "style": "IPY_MODEL_f4d73aae47fc4d77b98f137771bcfdc4",
      "value": " 6/6 [1:44:41&lt;00:00, 1091.99s/it]"
     }
    },
    "ffb26aeb3b7241db9d89b071851ffb40": {
     "model_module": "@jupyter-widgets/base",
     "model_name": "LayoutModel",
     "state": {
      "_model_module": "@jupyter-widgets/base",
      "_model_module_version": "1.2.0",
      "_model_name": "LayoutModel",
      "_view_count": null,
      "_view_module": "@jupyter-widgets/base",
      "_view_module_version": "1.2.0",
      "_view_name": "LayoutView",
      "align_content": null,
      "align_items": null,
      "align_self": null,
      "border": null,
      "bottom": null,
      "display": null,
      "flex": null,
      "flex_flow": null,
      "grid_area": null,
      "grid_auto_columns": null,
      "grid_auto_flow": null,
      "grid_auto_rows": null,
      "grid_column": null,
      "grid_gap": null,
      "grid_row": null,
      "grid_template_areas": null,
      "grid_template_columns": null,
      "grid_template_rows": null,
      "height": null,
      "justify_content": null,
      "justify_items": null,
      "left": null,
      "margin": null,
      "max_height": null,
      "max_width": null,
      "min_height": null,
      "min_width": null,
      "object_fit": null,
      "object_position": null,
      "order": null,
      "overflow": null,
      "overflow_x": null,
      "overflow_y": null,
      "padding": null,
      "right": null,
      "top": null,
      "visibility": null,
      "width": null
     }
    }
   }
  }
 },
 "nbformat": 4,
 "nbformat_minor": 1
}
