{
 "cells": [
  {
   "cell_type": "markdown",
   "metadata": {},
   "source": [
    "# Fourier shape representation"
   ]
  },
  {
   "cell_type": "code",
   "execution_count": null,
   "metadata": {},
   "outputs": [],
   "source": []
  },
  {
   "cell_type": "code",
   "execution_count": 1,
   "metadata": {},
   "outputs": [],
   "source": [
    "# %matplotlib widget\n",
    "# from mpl_toolkits.mplot3d import Axes3D\n",
    "import matplotlib.pyplot as plt\n",
    "from livelossplot import PlotLosses\n",
    "\n",
    "# import open3d as o3d\n",
    "# from open3d import JVisualizer\n",
    "\n",
    "import numpy as np\n",
    "from tqdm.notebook import tqdm as tqdm\n",
    "import torch\n",
    "import torch.nn as nn\n",
    "import trimesh\n",
    "from trimesh.sample import sample_surface\n",
    "import torch.utils.data as data"
   ]
  },
  {
   "cell_type": "markdown",
   "metadata": {},
   "source": [
    "## build model & dataset"
   ]
  },
  {
   "cell_type": "code",
   "execution_count": 2,
   "metadata": {},
   "outputs": [],
   "source": [
    "from network import *"
   ]
  },
  {
   "cell_type": "markdown",
   "metadata": {},
   "source": [
    "## visualize data"
   ]
  },
  {
   "cell_type": "code",
   "execution_count": 3,
   "metadata": {},
   "outputs": [],
   "source": [
    "# mesh_path = \"./bunny/reconstruction/bun_zipper.ply\"\n",
    "# dataset =GeometryDataset(mesh_path,samples=100000)\n",
    "# from torch.utils.data import DataLoader\n",
    "# dataloader = DataLoader(dataset,batch_size=1000, num_workers=4,pin_memory=True)\n",
    "\n",
    "# mesh=dataset.mesh\n",
    "# vertices = dataset.pnts\n",
    "# fig = plt.figure()\n",
    "# ax = Axes3D(fig)\n",
    "# # ax.plot_trisurf(mesh.vertices[:, 0], mesh.vertices[:,1], triangles=mesh.faces, Z=mesh.vertices[:,2]) \n",
    "# plot_geeks = ax.scatter(vertices[:, 0], vertices[:,1], vertices[:,2],color='green')\n",
    "# ax.set_title(\"3D plot\")\n",
    "# ax.set_xlabel('x-axis')\n",
    "# ax.set_ylabel('y-axis')\n",
    "# ax.set_zlabel('z-axis')\n",
    "# plt.show()"
   ]
  },
  {
   "cell_type": "markdown",
   "metadata": {},
   "source": [
    "## init models"
   ]
  },
  {
   "cell_type": "code",
   "execution_count": 4,
   "metadata": {},
   "outputs": [
    {
     "data": {
      "text/plain": [
       "<All keys matched successfully>"
      ]
     },
     "execution_count": 4,
     "metadata": {},
     "output_type": "execute_result"
    }
   ],
   "source": [
    "torch.set_default_dtype(torch.float32)\n",
    "model = ImplicitNetwork(d_in=3,d_out=1,dims=[512, 512, 512, 512, 512, 512, 512, 512],bias=0.2,skip_in=[4]).cuda()\n",
    "sampler = NormalPerPoint(global_sigma=0.1, local_sigma=0.01)\n",
    "optimizer = torch.optim.Adam(\n",
    "    model.parameters(),\n",
    "    lr=0.0005,\n",
    "    weight_decay=0,\n",
    ")\n",
    "model.load_state_dict(torch.load(\"./checkpoints/model_0072000.pth\")[\"model\"])"
   ]
  },
  {
   "cell_type": "markdown",
   "metadata": {},
   "source": [
    "## training sdf for specific mesh"
   ]
  },
  {
   "cell_type": "code",
   "execution_count": 5,
   "metadata": {},
   "outputs": [],
   "source": [
    "# # plt_groups = {'mnfld_loss_train':[],'grad_loss':[]}\n",
    "# # plotlosses_model = PlotLosses(groups=plt_groups)\n",
    "# plotlosses_model = PlotLosses()\n",
    "# steps=0\n",
    "# for i in range(1000000):\n",
    "#     for mnfld_pnts, normals in tqdm(dataloader, leave=False):\n",
    "#         mnfld_pnts=mnfld_pnts.cuda()\n",
    "#         normals=normals.cuda()\n",
    "#         nonmnfld_pnts = sampler.get_points(mnfld_pnts)\n",
    "#         # forward\n",
    "#         mnfld_pnts.requires_grad_()\n",
    "#         nonmnfld_pnts.requires_grad_()\n",
    "#         mnfld_pred = model(mnfld_pnts)\n",
    "#         nonmnfld_pred = model(nonmnfld_pnts)\n",
    "#         mnfld_grad = gradient(mnfld_pnts, mnfld_pred)\n",
    "#         nonmnfld_grad = gradient(nonmnfld_pnts, nonmnfld_pred)\n",
    "#         # maniflod_loss\n",
    "#         mnfld_loss = (mnfld_pred.abs()).mean()\n",
    "#         # eikonal loss\n",
    "#         grad_loss = ((nonmnfld_grad.norm(2, dim=-1) - 1) ** 2).mean()\n",
    "#         # regularize: prevents off-surface locations to create zero-isosurface\n",
    "#         sdf_global_without_surface = nonmnfld_pred[mnfld_pnts.shape[0] :]\n",
    "#         reg_loss = torch.exp(\n",
    "#             -100 * (sdf_global_without_surface.abs())\n",
    "#         ).mean()\n",
    "\n",
    "#         loss = (\n",
    "#             mnfld_loss\n",
    "#             + 0.1 * grad_loss\n",
    "#             + 0.1 * reg_loss\n",
    "#         )\n",
    "#         # normal loss\n",
    "#         if False:\n",
    "#             normals = normals.view(-1, 3)\n",
    "#             normals_loss = ((mnfld_grad - normals).abs()).norm(2, dim=1).mean()\n",
    "#             loss = loss + cfg.SOLVER.LOSS.NORMAL_LAMBDA * normals_loss\n",
    "#         # back propagation\n",
    "#         optimizer.zero_grad()\n",
    "#         loss.backward()\n",
    "#         optimizer.step()\n",
    "#         steps+=1\n",
    "#         if steps%100==0:\n",
    "#             torch.save(model.state_dict(), \"./checkpoints/last.pth\")\n",
    "#             plotlosses_model.update({'loss':loss.item(),'mnfld_loss_train':mnfld_loss.item(),'grad_loss':grad_loss.item()}, current_step=steps)\n",
    "#             plotlosses_model.send()\n"
   ]
  },
  {
   "cell_type": "markdown",
   "metadata": {},
   "source": [
    "## get volume and mesh"
   ]
  },
  {
   "cell_type": "code",
   "execution_count": 6,
   "metadata": {},
   "outputs": [
    {
     "name": "stderr",
     "output_type": "stream",
     "text": [
      "face_normals incorrect shape, ignoring!\n"
     ]
    },
    {
     "name": "stdout",
     "output_type": "stream",
     "text": [
      "number of inner points : 192972\n",
      "number of outer points : 807028\n"
     ]
    }
   ],
   "source": [
    "from plot import plot_surface\n",
    "RESULOTION=100\n",
    "mesh,volume = plot_surface(model,path=\"./results\",iteration=72000, shapename=\"result\",resolution=RESULOTION,mc_value=0.,is_uniform_grid=True,verbose=False,\n",
    "                        save_html=False,\n",
    "                        save_ply=True,\n",
    "                        overwrite=True,cube_length=1.5)\n",
    "print(\"number of inner points :\",(volume<0).sum())\n",
    "print(\"number of outer points :\",(volume>0).sum())"
   ]
  },
  {
   "cell_type": "markdown",
   "metadata": {},
   "source": [
    "## Fourier transform for geometry\n",
    "### visualize volume"
   ]
  },
  {
   "cell_type": "code",
   "execution_count": 7,
   "metadata": {},
   "outputs": [],
   "source": [
    "import trimesh\n",
    "from skimage import measure\n",
    "def get_mesh(volume):\n",
    "    verts, faces, normals, values = measure.marching_cubes_lewiner(volume=volume,level=0.)\n",
    "    meshexport = trimesh.Trimesh(verts, faces, normals, vertex_colors=values)   \n",
    "    return meshexport"
   ]
  },
  {
   "cell_type": "code",
   "execution_count": 8,
   "metadata": {},
   "outputs": [
    {
     "data": {
      "text/plain": [
       "torch.Size([100, 100, 51])"
      ]
     },
     "execution_count": 8,
     "metadata": {},
     "output_type": "execute_result"
    }
   ],
   "source": [
    "torch.fft.rfftn(torch.from_numpy(volume).cuda(),s=[100,100,100]).shape"
   ]
  },
  {
   "cell_type": "markdown",
   "metadata": {},
   "source": [
    "### FFT for shape"
   ]
  },
  {
   "cell_type": "code",
   "execution_count": 22,
   "metadata": {},
   "outputs": [],
   "source": [
    "F=torch.fft.rfftn(torch.from_numpy(volume).cuda(),s=[100,100,100])\n",
    "F_shift=torch.fft.fftshift(F)\n",
    "F_low=torch.zeros_like(F_shift)\n",
    "F_low[10:90,10:90,:51]=F_shift[10:90,10:90,:51]\n",
    "F_high=F_shift.clone()\n",
    "F_high[30:70,30:70,:30]=0"
   ]
  },
  {
   "cell_type": "markdown",
   "metadata": {},
   "source": [
    "### IFFT for shape"
   ]
  },
  {
   "cell_type": "code",
   "execution_count": 23,
   "metadata": {},
   "outputs": [],
   "source": [
    "f=torch.fft.irfftn(torch.fft.ifftshift(F_shift))\n",
    "f=torch.real(f).cpu().numpy()\n",
    "\n",
    "f_low=torch.fft.irfftn(torch.fft.ifftshift(F_low))\n",
    "f_low=torch.real(f_low).cpu().numpy()\n",
    "\n",
    "f_high=torch.fft.irfftn(torch.fft.ifftshift(F_high))\n",
    "f_high=torch.real(f_high).cpu().numpy()"
   ]
  },
  {
   "cell_type": "code",
   "execution_count": 24,
   "metadata": {},
   "outputs": [
    {
     "name": "stderr",
     "output_type": "stream",
     "text": [
      "face_normals incorrect shape, ignoring!\n",
      "face_normals incorrect shape, ignoring!\n",
      "face_normals incorrect shape, ignoring!\n",
      "face_normals incorrect shape, ignoring!\n"
     ]
    }
   ],
   "source": [
    "res_mesh=get_mesh(f_low)\n",
    "_=res_mesh.export(\"low.ply\", \"ply\")\n",
    "res_mesh=get_mesh(f_high)\n",
    "_=res_mesh.export(\"high.ply\", \"ply\")\n",
    "res_mesh=get_mesh(f)\n",
    "_=res_mesh.export(\"full.ply\", \"ply\")\n",
    "res_mesh=get_mesh(volume)\n",
    "_=res_mesh.export(\"gt.ply\", \"ply\")"
   ]
  },
  {
   "cell_type": "markdown",
   "metadata": {},
   "source": [
    "## Learned Fourier transform for geometry"
   ]
  },
  {
   "cell_type": "code",
   "execution_count": 28,
   "metadata": {},
   "outputs": [],
   "source": [
    "def fft_f_3(fscale):\n",
    "    dim=[80,80,51]\n",
    "    fx = torch.fft.fftfreq(int(100* fscale)) * fscale\n",
    "    fx = torch.fft.fftshift(fx)\n",
    "    x_train = torch.stack(torch.meshgrid(fx.reshape(-1), fx.reshape(-1),fx.reshape(-1)), -1)\n",
    "    F = x_train[50-dim[0]//2:50+dim[0]//2,50-dim[1]//2:50+dim[1]//2,:dim[2]]\n",
    "    return F\n",
    "\n",
    "def get_volume(freq,model,volume_shape=[100,100,51]):\n",
    "    init_F = torch.zeros(volume_shape,dtype=torch.cfloat).cuda()\n",
    "    v_i,v_j,v_k=volume_shape\n",
    "    out_ksp = torch.view_as_complex(model(freq.cuda()))\n",
    "    i,j,k=out_ksp.shape\n",
    "    init_F[(v_i-i)//2:(v_i+i)//2,(v_j-j)//2:(v_j+j)//2,:k]=out_ksp\n",
    "    out=torch.fft.irfftn(torch.fft.ifftshift(init_F))*1e+3\n",
    "    return out\n",
    "freq=fft_f_3(1.0)"
   ]
  },
  {
   "cell_type": "code",
   "execution_count": 31,
   "metadata": {},
   "outputs": [],
   "source": [
    "model_kspace=ImplicitNetwork(d_in=3,d_out=2,dims=[512, 512,512,512, 512,512],geometric_init=False,multires=128).cuda()\n",
    "training_steps=100000\n",
    "optimizer = torch.optim.Adam(\n",
    "    model_kspace.parameters(),\n",
    "    lr=0.0005,\n",
    "    weight_decay=0,\n",
    ")\n",
    "volume_gt=torch.from_numpy(volume).cuda()"
   ]
  },
  {
   "cell_type": "markdown",
   "metadata": {},
   "source": [
    "## Training"
   ]
  },
  {
   "cell_type": "code",
   "execution_count": 32,
   "metadata": {},
   "outputs": [
    {
     "data": {
      "image/png": "[encoded data removed]",
      "text/plain": [
       "<Figure size 864x576 with 2 Axes>"
      ]
     },
     "metadata": {
      "needs_background": "light"
     },
     "output_type": "display_data"
    },
    {
     "name": "stdout",
     "output_type": "stream",
     "text": [
      "Loss\n",
      "\tloss             \t (min:    0.002, max:    0.515, cur:    0.004)\n"
     ]
    }
   ],
   "source": [
    "plotlosses_model = PlotLosses()\n",
    "optimizer = torch.optim.Adam(\n",
    "    model_kspace.parameters(),\n",
    "    lr=0.0005,\n",
    "    weight_decay=0,\n",
    ")\n",
    "loss_fcn=nn.L1Loss(reduction=\"mean\")\n",
    "for i in tqdm(range(training_steps), desc='train iter', leave=False):\n",
    "    volume_out=get_volume(freq,model_kspace)\n",
    "#     loss=torch.mean(torch.abs(volume_out-volume_gt))\n",
    "    loss=loss_fcn(volume_out,volume_gt)\n",
    "    optimizer.zero_grad()\n",
    "    loss.backward()\n",
    "    optimizer.step()\n",
    "    if i%10==0:\n",
    "#         torch.save(model_kspace.state_dict(), \"./checkpoints/model_kspace.pth\")\n",
    "        plotlosses_model.update({'loss':loss.item()}, current_step=i)\n",
    "        plotlosses_model.send()\n",
    "    if i%200==0:\n",
    "        _=get_mesh(volume_out.cpu().detach().numpy()).export(\"learned.ply\", \"ply\")\n"
   ]
  },
  {
   "cell_type": "code",
   "execution_count": null,
   "metadata": {},
   "outputs": [],
   "source": [
    "get_volume(freq,model_kspace)"
   ]
  },
  {
   "cell_type": "code",
   "execution_count": 18,
   "metadata": {},
   "outputs": [
    {
     "name": "stderr",
     "output_type": "stream",
     "text": [
      "face_normals incorrect shape, ignoring!\n"
     ]
    }
   ],
   "source": [
    "_=get_mesh(volume_out.cpu().detach().numpy()).export(\"learned.ply\", \"ply\")"
   ]
  },
  {
   "cell_type": "code",
   "execution_count": null,
   "metadata": {},
   "outputs": [],
   "source": [
    "volume_shape=[100,100,51]\n",
    "init_F = torch.zeros(volume_shape,dtype=torch.cfloat).cuda()\n",
    "v_i,v_j,v_k=volume_shape\n",
    "F=model_kspace(freq.cuda())\n",
    "out_ksp = torch.view_as_complex(F)\n",
    "i,j,k=out_ksp.shape\n",
    "init_F[(v_i-i)//2:(v_i+i)//2,(v_j-j)//2:(v_j+j)//2,:k]=out_ksp\n",
    "out=torch.fft.irfftn(torch.fft.ifftshift(init_F))"
   ]
  },
  {
   "cell_type": "code",
   "execution_count": null,
   "metadata": {},
   "outputs": [],
   "source": [
    "volume_out.max()"
   ]
  },
  {
   "cell_type": "code",
   "execution_count": null,
   "metadata": {},
   "outputs": [],
   "source": [
    "out_ksp"
   ]
  },
  {
   "cell_type": "code",
   "execution_count": null,
   "metadata": {},
   "outputs": [],
   "source": []
  },
  {
   "cell_type": "code",
   "execution_count": null,
   "metadata": {},
   "outputs": [],
   "source": []
  }
 ],
 "metadata": {
  "kernelspec": {
   "display_name": "ndface",
   "language": "python",
   "name": "ndface"
  },
  "language_info": {
   "codemirror_mode": {
    "name": "ipython",
    "version": 3
   },
   "file_extension": ".py",
   "mimetype": "text/x-python",
   "name": "python",
   "nbconvert_exporter": "python",
   "pygments_lexer": "ipython3",
   "version": "3.7.3"
  }
 },
 "nbformat": 4,
 "nbformat_minor": 4
}
